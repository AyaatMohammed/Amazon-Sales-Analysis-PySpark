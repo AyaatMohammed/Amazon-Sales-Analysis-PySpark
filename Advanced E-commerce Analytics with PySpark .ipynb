{
 "cells": [
  {
   "cell_type": "code",
   "execution_count": 2,
   "metadata": {
    "execution": {
     "iopub.execute_input": "2025-09-02T14:36:46.433764Z",
     "iopub.status.busy": "2025-09-02T14:36:46.433321Z",
     "iopub.status.idle": "2025-09-02T14:36:54.964068Z",
     "shell.execute_reply": "2025-09-02T14:36:54.962751Z",
     "shell.execute_reply.started": "2025-09-02T14:36:46.433717Z"
    },
    "trusted": true
   },
   "outputs": [
    {
     "name": "stderr",
     "output_type": "stream",
     "text": [
      "Setting default log level to \"WARN\".\n",
      "To adjust logging level use sc.setLogLevel(newLevel). For SparkR, use setLogLevel(newLevel).\n",
      "25/09/02 14:36:52 WARN NativeCodeLoader: Unable to load native-hadoop library for your platform... using builtin-java classes where applicable\n"
     ]
    },
    {
     "name": "stdout",
     "output_type": "stream",
     "text": [
      "PySpark installed and SparkSession created successfully!\n",
      "Spark version: 3.5.1\n"
     ]
    }
   ],
   "source": [
    "from pyspark.sql import SparkSession\n",
    "\n",
    "spark = SparkSession.builder \\\n",
    "    .appName(\"OlistECommerceAnalysis\") \\\n",
    "    .getOrCreate()\n",
    "\n",
    "print(\"PySpark installed and SparkSession created successfully!\")\n",
    "print(f\"Spark version: {spark.version}\")\n"
   ]
  },
  {
   "cell_type": "code",
   "execution_count": null,
   "metadata": {
    "execution": {
     "iopub.execute_input": "2025-09-02T14:38:47.357362Z",
     "iopub.status.busy": "2025-09-02T14:38:47.356929Z",
     "iopub.status.idle": "2025-09-02T14:38:59.618650Z",
     "shell.execute_reply": "2025-09-02T14:38:59.617292Z",
     "shell.execute_reply.started": "2025-09-02T14:38:47.357335Z"
    },
    "trusted": true
   },
   "outputs": [
    {
     "name": "stderr",
     "output_type": "stream",
     "text": [
      "                                                                                \r"
     ]
    },
    {
     "name": "stdout",
     "output_type": "stream",
     "text": [
      "تم تحميل 6 جداول بيانات بنجاح!\n"
     ]
    }
   ],
   "source": [
    "input_path = \"/kaggle/input/brazilian-ecommerce/\"\n",
    "\n",
    "orders_df = spark.read.csv(input_path + \"olist_orders_dataset.csv\", header=True, inferSchema=True)\n",
    "order_items_df = spark.read.csv(input_path + \"olist_order_items_dataset.csv\", header=True, inferSchema=True)\n",
    "customers_df = spark.read.csv(input_path + \"olist_customers_dataset.csv\", header=True, inferSchema=True)\n",
    "products_df = spark.read.csv(input_path + \"olist_products_dataset.csv\", header=True, inferSchema=True)\n",
    "order_payments_df = spark.read.csv(input_path + \"olist_order_payments_dataset.csv\", header=True, inferSchema=True)\n",
    "sellers_df = spark.read.csv(input_path + \"olist_sellers_dataset.csv\", header=True, inferSchema=True)\n",
    "\n",
    "print(\"تم تحميل 6 جداول بيانات بنجاح!\")\n"
   ]
  },
  {
   "cell_type": "code",
   "execution_count": 5,
   "metadata": {
    "execution": {
     "iopub.execute_input": "2025-09-02T14:39:45.989461Z",
     "iopub.status.busy": "2025-09-02T14:39:45.989113Z",
     "iopub.status.idle": "2025-09-02T14:39:46.429364Z",
     "shell.execute_reply": "2025-09-02T14:39:46.428047Z",
     "shell.execute_reply.started": "2025-09-02T14:39:45.989438Z"
    },
    "trusted": true
   },
   "outputs": [
    {
     "name": "stdout",
     "output_type": "stream",
     "text": [
      "--- هيكل جدول الطلبات (Orders Schema) ---\n",
      "root\n",
      " |-- order_id: string (nullable = true)\n",
      " |-- customer_id: string (nullable = true)\n",
      " |-- order_status: string (nullable = true)\n",
      " |-- order_purchase_timestamp: timestamp (nullable = true)\n",
      " |-- order_approved_at: timestamp (nullable = true)\n",
      " |-- order_delivered_carrier_date: timestamp (nullable = true)\n",
      " |-- order_delivered_customer_date: timestamp (nullable = true)\n",
      " |-- order_estimated_delivery_date: timestamp (nullable = true)\n",
      "\n",
      "\n",
      "--- أول 5 صفوف من جدول الطلبات (Orders Data) ---\n",
      "+--------------------+--------------------+------------+------------------------+-------------------+----------------------------+-----------------------------+-----------------------------+\n",
      "|            order_id|         customer_id|order_status|order_purchase_timestamp|  order_approved_at|order_delivered_carrier_date|order_delivered_customer_date|order_estimated_delivery_date|\n",
      "+--------------------+--------------------+------------+------------------------+-------------------+----------------------------+-----------------------------+-----------------------------+\n",
      "|e481f51cbdc54678b...|9ef432eb625129730...|   delivered|     2017-10-02 10:56:33|2017-10-02 11:07:15|         2017-10-04 19:55:00|          2017-10-10 21:25:13|          2017-10-18 00:00:00|\n",
      "|53cdb2fc8bc7dce0b...|b0830fb4747a6c6d2...|   delivered|     2018-07-24 20:41:37|2018-07-26 03:24:27|         2018-07-26 14:31:00|          2018-08-07 15:27:45|          2018-08-13 00:00:00|\n",
      "|47770eb9100c2d0c4...|41ce2a54c0b03bf34...|   delivered|     2018-08-08 08:38:49|2018-08-08 08:55:23|         2018-08-08 13:50:00|          2018-08-17 18:06:29|          2018-09-04 00:00:00|\n",
      "|949d5b44dbf5de918...|f88197465ea7920ad...|   delivered|     2017-11-18 19:28:06|2017-11-18 19:45:59|         2017-11-22 13:39:59|          2017-12-02 00:28:42|          2017-12-15 00:00:00|\n",
      "|ad21c59c0840e6cb8...|8ab97904e6daea886...|   delivered|     2018-02-13 21:18:39|2018-02-13 22:20:29|         2018-02-14 19:46:34|          2018-02-16 18:17:02|          2018-02-26 00:00:00|\n",
      "+--------------------+--------------------+------------+------------------------+-------------------+----------------------------+-----------------------------+-----------------------------+\n",
      "only showing top 5 rows\n",
      "\n"
     ]
    }
   ],
   "source": [
    "print(\"--- هيكل جدول الطلبات (Orders Schema) ---\")\n",
    "orders_df.printSchema()\n",
    "\n",
    "print(\"\\n--- أول 5 صفوف من جدول الطلبات (Orders Data) ---\")\n",
    "orders_df.show(5)\n"
   ]
  },
  {
   "cell_type": "code",
   "execution_count": null,
   "metadata": {
    "execution": {
     "iopub.execute_input": "2025-09-02T14:41:48.391396Z",
     "iopub.status.busy": "2025-09-02T14:41:48.390179Z",
     "iopub.status.idle": "2025-09-02T14:41:48.692563Z",
     "shell.execute_reply": "2025-09-02T14:41:48.691082Z",
     "shell.execute_reply.started": "2025-09-02T14:41:48.391357Z"
    },
    "trusted": true
   },
   "outputs": [
    {
     "name": "stdout",
     "output_type": "stream",
     "text": [
      "--- هيكل جدول تفاصيل الطلبات (Order Items Schema) ---\n",
      "root\n",
      " |-- order_id: string (nullable = true)\n",
      " |-- order_item_id: integer (nullable = true)\n",
      " |-- product_id: string (nullable = true)\n",
      " |-- seller_id: string (nullable = true)\n",
      " |-- shipping_limit_date: timestamp (nullable = true)\n",
      " |-- price: double (nullable = true)\n",
      " |-- freight_value: double (nullable = true)\n",
      "\n",
      "\n",
      "--- أول 5 صفوف من جدول تفاصيل الطلبات (Order Items Data) ---\n",
      "+--------------------+-------------+--------------------+--------------------+-------------------+-----+-------------+\n",
      "|            order_id|order_item_id|          product_id|           seller_id|shipping_limit_date|price|freight_value|\n",
      "+--------------------+-------------+--------------------+--------------------+-------------------+-----+-------------+\n",
      "|00010242fe8c5a6d1...|            1|4244733e06e7ecb49...|48436dade18ac8b2b...|2017-09-19 09:45:35| 58.9|        13.29|\n",
      "|00018f77f2f0320c5...|            1|e5f2d52b802189ee6...|dd7ddc04e1b6c2c61...|2017-05-03 11:05:13|239.9|        19.93|\n",
      "|000229ec398224ef6...|            1|c777355d18b72b67a...|5b51032eddd242adc...|2018-01-18 14:48:30|199.0|        17.87|\n",
      "|00024acbcdf0a6daa...|            1|7634da152a4610f15...|9d7a1d34a50524090...|2018-08-15 10:10:18|12.99|        12.79|\n",
      "|00042b26cf59d7ce6...|            1|ac6c3623068f30de0...|df560393f3a51e745...|2017-02-13 13:57:51|199.9|        18.14|\n",
      "+--------------------+-------------+--------------------+--------------------+-------------------+-----+-------------+\n",
      "only showing top 5 rows\n",
      "\n"
     ]
    }
   ],
   "source": [
    "print(\"--- هيكل جدول تفاصيل الطلبات (Order Items Schema) ---\")\n",
    "order_items_df.printSchema()\n",
    "print(\"\\n--- أول 5 صفوف من جدول تفاصيل الطلبات (Order Items Data) ---\")\n",
    "order_items_df.show(5)\n"
   ]
  },
  {
   "cell_type": "code",
   "execution_count": null,
   "metadata": {
    "execution": {
     "iopub.execute_input": "2025-09-02T14:42:19.657568Z",
     "iopub.status.busy": "2025-09-02T14:42:19.657215Z",
     "iopub.status.idle": "2025-09-02T14:42:25.299712Z",
     "shell.execute_reply": "2025-09-02T14:42:25.296466Z",
     "shell.execute_reply.started": "2025-09-02T14:42:19.657543Z"
    },
    "trusted": true
   },
   "outputs": [
    {
     "name": "stderr",
     "output_type": "stream",
     "text": [
      "                                                                                \r"
     ]
    },
    {
     "name": "stdout",
     "output_type": "stream",
     "text": [
      "عدد الصفوف في الجدول المدمج: 112650\n",
      "\n",
      "--- هيكل الجدول المدمج ---\n",
      "root\n",
      " |-- order_id: string (nullable = true)\n",
      " |-- customer_id: string (nullable = true)\n",
      " |-- order_status: string (nullable = true)\n",
      " |-- order_purchase_timestamp: timestamp (nullable = true)\n",
      " |-- order_approved_at: timestamp (nullable = true)\n",
      " |-- order_delivered_carrier_date: timestamp (nullable = true)\n",
      " |-- order_delivered_customer_date: timestamp (nullable = true)\n",
      " |-- order_estimated_delivery_date: timestamp (nullable = true)\n",
      " |-- order_item_id: integer (nullable = true)\n",
      " |-- product_id: string (nullable = true)\n",
      " |-- seller_id: string (nullable = true)\n",
      " |-- shipping_limit_date: timestamp (nullable = true)\n",
      " |-- price: double (nullable = true)\n",
      " |-- freight_value: double (nullable = true)\n",
      "\n",
      "\n",
      "--- أول 5 صفوف من الجدول المدمج ---\n"
     ]
    },
    {
     "name": "stderr",
     "output_type": "stream",
     "text": [
      "[Stage 19:=============================>                            (2 + 2) / 4]\r"
     ]
    },
    {
     "name": "stdout",
     "output_type": "stream",
     "text": [
      "+--------------------+--------------------+------------+------------------------+-------------------+----------------------------+-----------------------------+-----------------------------+-------------+--------------------+--------------------+-------------------+-----+-------------+\n",
      "|            order_id|         customer_id|order_status|order_purchase_timestamp|  order_approved_at|order_delivered_carrier_date|order_delivered_customer_date|order_estimated_delivery_date|order_item_id|          product_id|           seller_id|shipping_limit_date|price|freight_value|\n",
      "+--------------------+--------------------+------------+------------------------+-------------------+----------------------------+-----------------------------+-----------------------------+-------------+--------------------+--------------------+-------------------+-----+-------------+\n",
      "|00018f77f2f0320c5...|f6dd3ec061db4e398...|   delivered|     2017-04-26 10:53:06|2017-04-26 11:05:13|         2017-05-04 14:35:00|          2017-05-12 16:04:24|          2017-05-15 00:00:00|            1|e5f2d52b802189ee6...|dd7ddc04e1b6c2c61...|2017-05-03 11:05:13|239.9|        19.93|\n",
      "|00042b26cf59d7ce6...|58dbd0b2d70206bf4...|   delivered|     2017-02-04 13:57:51|2017-02-04 14:10:13|         2017-02-16 09:46:09|          2017-03-01 16:42:31|          2017-03-17 00:00:00|            1|ac6c3623068f30de0...|df560393f3a51e745...|2017-02-13 13:57:51|199.9|        18.14|\n",
      "|00054e8431b9d7675...|32e2e6ab09e778d99...|   delivered|     2017-12-10 11:53:48|2017-12-10 12:10:31|         2017-12-12 01:07:48|          2017-12-18 22:03:38|          2018-01-04 00:00:00|            1|8d4f2bb7e93e6710a...|7040e82f899a04d1b...|2017-12-14 12:10:31| 19.9|        11.85|\n",
      "|0006ec9db01a64e59...|5d178120c29c61748...|   delivered|     2018-07-24 17:04:17|2018-07-24 17:24:20|         2018-07-25 11:02:00|          2018-07-31 01:04:15|          2018-08-22 00:00:00|            1|99a4788cb24856965...|4a3ca9315b744ce9f...|2018-07-26 17:24:20| 74.0|        23.32|\n",
      "|000aed2e25dbad2f9...|fff5169e583fd07fa...|   delivered|     2018-05-11 20:33:38|2018-05-11 20:57:03|         2018-05-16 14:26:00|          2018-05-18 16:46:31|          2018-05-22 00:00:00|            1|4fa33915031a8cde0...|fe2032dab1a61af87...|2018-05-16 20:57:03|144.0|         8.77|\n",
      "+--------------------+--------------------+------------+------------------------+-------------------+----------------------------+-----------------------------+-----------------------------+-------------+--------------------+--------------------+-------------------+-----+-------------+\n",
      "only showing top 5 rows\n",
      "\n"
     ]
    },
    {
     "name": "stderr",
     "output_type": "stream",
     "text": [
      "                                                                                \r"
     ]
    }
   ],
   "source": [
    "merged_df = orders_df.join(order_items_df, on=\"order_id\", how=\"inner\")\n",
    "print(f\"عدد الصفوف في الجدول المدمج: {merged_df.count()}\")\n",
    "print(\"\\n--- هيكل الجدول المدمج ---\")\n",
    "merged_df.printSchema()\n",
    "\n",
    "print(\"\\n--- أول 5 صفوف من الجدول المدمج ---\")\n",
    "merged_df.show(5)\n"
   ]
  },
  {
   "cell_type": "code",
   "execution_count": null,
   "metadata": {
    "execution": {
     "iopub.execute_input": "2025-09-02T14:43:27.988596Z",
     "iopub.status.busy": "2025-09-02T14:43:27.988181Z",
     "iopub.status.idle": "2025-09-02T14:43:31.201829Z",
     "shell.execute_reply": "2025-09-02T14:43:31.200738Z",
     "shell.execute_reply.started": "2025-09-02T14:43:27.988569Z"
    },
    "trusted": true
   },
   "outputs": [
    {
     "name": "stdout",
     "output_type": "stream",
     "text": [
      "عدد الطلبات المكتملة (delivered): 110197\n",
      "\n",
      "--- التحقق من القيم الفارغة (Nulls) ---\n"
     ]
    },
    {
     "name": "stderr",
     "output_type": "stream",
     "text": [
      "                                                                                \r"
     ]
    },
    {
     "name": "stdout",
     "output_type": "stream",
     "text": [
      "+-----------------------------+----------+------------------+\n",
      "|sum(order_purchase_timestamp)|sum(price)|sum(freight_value)|\n",
      "+-----------------------------+----------+------------------+\n",
      "|                            0|         0|                 0|\n",
      "+-----------------------------+----------+------------------+\n",
      "\n"
     ]
    }
   ],
   "source": [
    "from pyspark.sql.functions import col\n",
    "delivered_df = merged_df.filter(col(\"order_status\") == \"delivered\")\n",
    "print(f\"عدد الطلبات المكتملة (delivered): {delivered_df.count()}\")\n",
    "print(\"\\n--- التحقق من القيم الفارغة (Nulls) ---\")\n",
    "delivered_df.select([col(c).isNull().cast(\"integer\").alias(c) for c in [\"order_purchase_timestamp\", \"price\", \"freight_value\"]]).groupBy().sum().show()"
   ]
  },
  {
   "cell_type": "code",
   "execution_count": null,
   "metadata": {
    "execution": {
     "iopub.execute_input": "2025-09-02T14:44:00.853905Z",
     "iopub.status.busy": "2025-09-02T14:44:00.853605Z",
     "iopub.status.idle": "2025-09-02T14:44:02.384965Z",
     "shell.execute_reply": "2025-09-02T14:44:02.383636Z",
     "shell.execute_reply.started": "2025-09-02T14:44:00.853886Z"
    },
    "trusted": true
   },
   "outputs": [
    {
     "name": "stdout",
     "output_type": "stream",
     "text": [
      "--- أغلى 10 منتجات تم بيعها ---\n",
      "+--------------------+--------------------+-------+\n",
      "|            order_id|          product_id|  price|\n",
      "+--------------------+--------------------+-------+\n",
      "|0812eb902a67711a1...|489ae2aa008f02150...| 6735.0|\n",
      "|fefacc66af859508b...|69c590f7ffc7bf8db...| 6729.0|\n",
      "|f5136e38d1a14a4db...|1bdf5e6731585cf01...| 6499.0|\n",
      "|a96610ab360d42a2e...|a6492cc69376c469a...| 4799.0|\n",
      "|199af31afc78c699f...|c3ed642d592594bb6...| 4690.0|\n",
      "|8dbc85d1447242f3b...|259037a6a41845e45...| 4590.0|\n",
      "|426a9742b533fc6fe...|a1beef8f3992dbd4c...|4399.87|\n",
      "|68101694e5c5dc733...|6cdf8fc1d741c7658...|4099.99|\n",
      "|b239ca7cd485940b3...|dd113cb02b2af9c8e...| 4059.0|\n",
      "|86c4eab1571921a6a...|6902c1962dd19d540...| 3999.9|\n",
      "+--------------------+--------------------+-------+\n",
      "\n"
     ]
    }
   ],
   "source": [
    "from pyspark.sql.functions import col\n",
    "top_10_expensive_items = delivered_df.orderBy(col(\"price\").desc()).limit(10)\n",
    "print(\"--- أغلى 10 منتجات تم بيعها ---\")\n",
    "top_10_expensive_items.select(\"order_id\", \"product_id\", \"price\").show()\n"
   ]
  },
  {
   "cell_type": "code",
   "execution_count": null,
   "metadata": {
    "execution": {
     "iopub.execute_input": "2025-09-02T14:44:53.062443Z",
     "iopub.status.busy": "2025-09-02T14:44:53.062054Z",
     "iopub.status.idle": "2025-09-02T14:44:55.646177Z",
     "shell.execute_reply": "2025-09-02T14:44:55.643679Z",
     "shell.execute_reply.started": "2025-09-02T14:44:53.062417Z"
    },
    "trusted": true
   },
   "outputs": [
    {
     "name": "stdout",
     "output_type": "stream",
     "text": [
      "--- أعلى 10 مدن من حيث إجمالي الإيرادات ---\n"
     ]
    },
    {
     "name": "stderr",
     "output_type": "stream",
     "text": [
      "[Stage 35:==============>                                           (1 + 3) / 4]\r"
     ]
    },
    {
     "name": "stdout",
     "output_type": "stream",
     "text": [
      "+--------------+--------------+------------------+\n",
      "| customer_city|customer_state|     total_revenue|\n",
      "+--------------+--------------+------------------+\n",
      "|     sao paulo|            SP| 1859556.830000038|\n",
      "|rio de janeiro|            RJ| 955573.9699999936|\n",
      "|belo horizonte|            MG|346039.03999999916|\n",
      "|      brasilia|            DF|295814.71999999986|\n",
      "|      curitiba|            PR|205999.33000000045|\n",
      "|      campinas|            SP| 184657.8700000004|\n",
      "|  porto alegre|            RS|182319.55000000042|\n",
      "|      salvador|            BA|173273.05000000022|\n",
      "|     guarulhos|            SP| 139008.1900000004|\n",
      "|       niteroi|            RJ|115890.26000000027|\n",
      "+--------------+--------------+------------------+\n",
      "\n"
     ]
    },
    {
     "name": "stderr",
     "output_type": "stream",
     "text": [
      "                                                                                \r"
     ]
    }
   ],
   "source": [
    "from pyspark.sql.functions import sum, col, desc\n",
    "\n",
    "full_df = delivered_df.join(customers_df, on=\"customer_id\", how=\"inner\")\n",
    "revenue_by_city = full_df.groupBy(\"customer_city\", \"customer_state\") \\\n",
    ".agg(sum(\"price\").alias(\"total_revenue\"))\n",
    "top_10_cities_by_revenue = revenue_by_city.orderBy(col(\"total_revenue\").desc()).limit(10)\n",
    "print(\"--- أعلى 10 مدن من حيث إجمالي الإيرادات ---\")\n",
    "top_10_cities_by_revenue.show()\n"
   ]
  },
  {
   "cell_type": "code",
   "execution_count": null,
   "metadata": {
    "execution": {
     "iopub.execute_input": "2025-09-02T14:45:26.409311Z",
     "iopub.status.busy": "2025-09-02T14:45:26.408883Z",
     "iopub.status.idle": "2025-09-02T14:45:28.814341Z",
     "shell.execute_reply": "2025-09-02T14:45:28.812376Z",
     "shell.execute_reply.started": "2025-09-02T14:45:26.409287Z"
    },
    "trusted": true
   },
   "outputs": [
    {
     "name": "stdout",
     "output_type": "stream",
     "text": [
      "--- الأشهر الأعلى من حيث إجمالي الإيرادات (في جميع السنوات) ---\n"
     ]
    },
    {
     "name": "stderr",
     "output_type": "stream",
     "text": [
      "[Stage 40:==============>                                           (1 + 3) / 4]\r"
     ]
    },
    {
     "name": "stdout",
     "output_type": "stream",
     "text": [
      "+----+-----+------------------+\n",
      "|year|month|     total_revenue|\n",
      "+----+-----+------------------+\n",
      "|2017|   11| 987765.3699999921|\n",
      "|2018|    5| 977544.6899999933|\n",
      "|2018|    4| 973534.0899999927|\n",
      "|2018|    3| 953356.2499999914|\n",
      "|2018|    1| 924644.9999999898|\n",
      "|2018|    7|  867953.459999991|\n",
      "|2018|    6| 856077.8599999893|\n",
      "|2018|    8| 838576.6399999892|\n",
      "|2018|    2| 826437.1299999858|\n",
      "|2017|   12| 726033.1899999892|\n",
      "|2017|   10| 648247.6499999923|\n",
      "|2017|    9|  607399.669999993|\n",
      "|2017|    8| 554699.6999999941|\n",
      "|2017|    5|489338.24999999674|\n",
      "|2017|    7| 481604.5199999958|\n",
      "+----+-----+------------------+\n",
      "only showing top 15 rows\n",
      "\n"
     ]
    },
    {
     "name": "stderr",
     "output_type": "stream",
     "text": [
      "                                                                                \r"
     ]
    }
   ],
   "source": [
    "from pyspark.sql.functions import year, month, sum, col, desc\n",
    "sales_by_month_df = full_df.withColumn(\"year\", year(col(\"order_purchase_timestamp\"))) \\\n",
    "                           .withColumn(\"month\", month(col(\"order_purchase_timestamp\")))\n",
    "\n",
    "\n",
    "revenue_by_month = sales_by_month_df.groupBy(\"year\", \"month\") \\\n",
    "                                    .agg(sum(\"price\").alias(\"total_revenue\"))\n",
    "\n",
    "\n",
    "top_months_by_revenue = revenue_by_month.orderBy(col(\"total_revenue\").desc())\n",
    "\n",
    "\n",
    "print(\"--- الأشهر الأعلى من حيث إجمالي الإيرادات (في جميع السنوات) ---\")\n",
    "top_months_by_revenue.show(15)\n"
   ]
  },
  {
   "cell_type": "code",
   "execution_count": null,
   "metadata": {
    "execution": {
     "iopub.execute_input": "2025-09-02T14:48:52.295154Z",
     "iopub.status.busy": "2025-09-02T14:48:52.294831Z",
     "iopub.status.idle": "2025-09-02T14:48:55.925308Z",
     "shell.execute_reply": "2025-09-02T14:48:55.924464Z",
     "shell.execute_reply.started": "2025-09-02T14:48:52.295136Z"
    },
    "trusted": true
   },
   "outputs": [
    {
     "name": "stdout",
     "output_type": "stream",
     "text": [
      "--- أعلى 10 طلبات من حيث نسبة الهامش (الأفضل) ---\n",
      "+--------------------+-----+-------------+-----------------+\n",
      "|            order_id|price|freight_value|margin_percentage|\n",
      "+--------------------+-----+-------------+-----------------+\n",
      "|d9d7e5dfa3a521b26...|110.0|          0.0|            100.0|\n",
      "|dd6ac2e90734c89e3...|106.9|          0.0|            100.0|\n",
      "|654c6463f421d5193...| 53.9|          0.0|            100.0|\n",
      "|484e56ded428e8848...| 69.9|          0.0|            100.0|\n",
      "|b16d9ba816a4e2f57...| 53.9|          0.0|            100.0|\n",
      "|6bc5da0239ae80698...|112.9|          0.0|            100.0|\n",
      "|a2ea081c06c12c25c...|110.0|          0.0|            100.0|\n",
      "|a9a682eb2347718ea...| 69.9|          0.0|            100.0|\n",
      "|3e6a8242ed19ca13a...| 99.9|          0.0|            100.0|\n",
      "|9fbac5c017947f1c2...| 99.9|          0.0|            100.0|\n",
      "+--------------------+-----+-------------+-----------------+\n",
      "only showing top 10 rows\n",
      "\n",
      "\n",
      "--- أدنى 10 طلبات من حيث نسبة الهامش (الأسوأ) ---\n",
      "+--------------------+-----+-------------+------------------+\n",
      "|            order_id|price|freight_value| margin_percentage|\n",
      "+--------------------+-----+-------------+------------------+\n",
      "|c5bdd8ef3c0ec4202...| 0.85|         22.3|-2523.529411764706|\n",
      "|3ee6513ae7ea23bdf...| 0.85|        18.23|-2044.705882352941|\n",
      "|6e864b3f0ec710311...| 0.85|        18.23|-2044.705882352941|\n",
      "|8272b63d03f5f79c5...|  1.2|         7.89|            -557.5|\n",
      "|8272b63d03f5f79c5...|  1.2|         7.89|            -557.5|\n",
      "|8272b63d03f5f79c5...|  1.2|         7.89|            -557.5|\n",
      "|8272b63d03f5f79c5...|  1.2|         7.89|            -557.5|\n",
      "|8272b63d03f5f79c5...|  1.2|         7.89|            -557.5|\n",
      "|8272b63d03f5f79c5...|  1.2|         7.89|            -557.5|\n",
      "|8272b63d03f5f79c5...|  1.2|         7.89|            -557.5|\n",
      "+--------------------+-----+-------------+------------------+\n",
      "only showing top 10 rows\n",
      "\n"
     ]
    }
   ],
   "source": [
    "from pyspark.sql.functions import col\n",
    "\n",
    "df_with_revenue = full_df.withColumn(\"revenue_after_freight\", col(\"price\") - col(\"freight_value\"))\n",
    "\n",
    "financial_df = df_with_revenue.withColumn(\"margin_percentage\", (col(\"revenue_after_freight\") / col(\"price\")) * 100)\n",
    "\n",
    "print(\"--- أعلى 10 طلبات من حيث نسبة الهامش (الأفضل) ---\")\n",
    "top_margins = financial_df.orderBy(col(\"margin_percentage\").desc())\n",
    "top_margins.select(\"order_id\", \"price\", \"freight_value\", \"margin_percentage\").show(10)\n",
    "\n",
    "print(\"\\n--- أدنى 10 طلبات من حيث نسبة الهامش (الأسوأ) ---\")\n",
    "bottom_margins = financial_df.orderBy(col(\"margin_percentage\").asc())\n",
    "bottom_margins.select(\"order_id\", \"price\", \"freight_value\", \"margin_percentage\").show(10)\n",
    "\n"
   ]
  },
  {
   "cell_type": "code",
   "execution_count": null,
   "metadata": {
    "execution": {
     "iopub.execute_input": "2025-09-02T14:49:41.774261Z",
     "iopub.status.busy": "2025-09-02T14:49:41.773952Z",
     "iopub.status.idle": "2025-09-02T14:49:43.925213Z",
     "shell.execute_reply": "2025-09-02T14:49:43.924271Z",
     "shell.execute_reply.started": "2025-09-02T14:49:41.774242Z"
    },
    "trusted": true
   },
   "outputs": [
    {
     "name": "stdout",
     "output_type": "stream",
     "text": [
      "--- أعلى 3 طلبات قيمةً في فئة 'cama_mesa_banho' ---\n"
     ]
    },
    {
     "name": "stderr",
     "output_type": "stream",
     "text": [
      "                                                                                \r"
     ]
    },
    {
     "name": "stdout",
     "output_type": "stream",
     "text": [
      "+--------------------+--------------------+---------------------+-------+\n",
      "|            order_id|          product_id|product_category_name|  price|\n",
      "+--------------------+--------------------+---------------------+-------+\n",
      "|90674f59a21207f91...|59af9f8790e7a3f82...|      cama_mesa_banho|1999.98|\n",
      "|cff46468993417e62...|4abee1df902ca6e48...|      cama_mesa_banho|1914.58|\n",
      "|970bbf79974ba1ef7...|3ff22524016b71a48...|      cama_mesa_banho|1914.58|\n",
      "+--------------------+--------------------+---------------------+-------+\n",
      "\n"
     ]
    }
   ],
   "source": [
    "from pyspark.sql.functions import col\n",
    "\n",
    "final_df = financial_df.join(products_df, on=\"product_id\", how=\"inner\")\n",
    "\n",
    "target_category = \"cama_mesa_banho\"\n",
    "\n",
    "category_df = final_df.filter(col(\"product_category_name\") == target_category)\n",
    "print(f\"--- أعلى 3 طلبات قيمةً في فئة '{target_category}' ---\")\n",
    "top_3_in_category = category_df.orderBy(col(\"price\").desc()).limit(3)\n",
    "\n",
    "top_3_in_category.select(\"order_id\", \"product_id\", \"product_category_name\", \"price\").show()\n"
   ]
  },
  {
   "cell_type": "code",
   "execution_count": null,
   "metadata": {
    "execution": {
     "iopub.execute_input": "2025-09-02T14:52:57.876932Z",
     "iopub.status.busy": "2025-09-02T14:52:57.876436Z",
     "iopub.status.idle": "2025-09-02T14:53:00.529069Z",
     "shell.execute_reply": "2025-09-02T14:53:00.527889Z",
     "shell.execute_reply.started": "2025-09-02T14:52:57.876897Z"
    },
    "trusted": true
   },
   "outputs": [
    {
     "data": {
      "image/png": "[encoded data removed]",
      "text/plain": [
       "<Figure size 1200x600 with 1 Axes>"
      ]
     },
     "metadata": {},
     "output_type": "display_data"
    },
    {
     "name": "stderr",
     "output_type": "stream",
     "text": [
      "/usr/local/lib/python3.11/dist-packages/seaborn/_oldcore.py:1119: FutureWarning: use_inf_as_na option is deprecated and will be removed in a future version. Convert inf values to NaN before operating instead.\n",
      "  with pd.option_context('mode.use_inf_as_na', True):\n",
      "/usr/local/lib/python3.11/dist-packages/seaborn/_oldcore.py:1119: FutureWarning: use_inf_as_na option is deprecated and will be removed in a future version. Convert inf values to NaN before operating instead.\n",
      "  with pd.option_context('mode.use_inf_as_na', True):\n"
     ]
    },
    {
     "data": {
      "image/png": "[encoded data removed]",
      "text/plain": [
       "<Figure size 1500x700 with 1 Axes>"
      ]
     },
     "metadata": {},
     "output_type": "display_data"
    }
   ],
   "source": [
    "import matplotlib.pyplot as plt\n",
    "import seaborn as sns\n",
    "import pandas as pd\n",
    "\n",
    "top_cities_pandas = top_10_cities_by_revenue.toPandas()\n",
    "plt.figure(figsize=(12, 6)) \n",
    "sns.barplot(x=\"total_revenue\", y=\"customer_city\", data=top_cities_pandas, orient='h')\n",
    "\n",
    "\n",
    "plt.title('Top 10 Cities by Total Revenue', fontsize=16)\n",
    "plt.xlabel('Total Revenue', fontsize=12)\n",
    "plt.ylabel('City', fontsize=12)\n",
    "plt.show() \n",
    "\n",
    "\n",
    "revenue_by_month_pandas = revenue_by_month.orderBy(\"year\", \"month\").toPandas()\n",
    "# Create a proper date column for plotting\n",
    "revenue_by_month_pandas['date'] = pd.to_datetime(revenue_by_month_pandas['year'].astype(str) + '-' + revenue_by_month_pandas['month'].astype(str))\n",
    "\n",
    "\n",
    "plt.figure(figsize=(15, 7)) \n",
    "sns.lineplot(x='date', y='total_revenue', data=revenue_by_month_pandas, marker='o')\n",
    "\n",
    "\n",
    "plt.title('Total Monthly Revenue (2016-2018)', fontsize=16)\n",
    "plt.xlabel('Date', fontsize=12)\n",
    "plt.ylabel('Total Revenue', fontsize=12)\n",
    "plt.xticks(rotation=45) \n",
    "plt.grid(True) \n",
    "plt.show() \n"
   ]
  },
  {
   "cell_type": "code",
   "execution_count": 19,
   "metadata": {
    "execution": {
     "iopub.execute_input": "2025-09-02T14:54:40.007848Z",
     "iopub.status.busy": "2025-09-02T14:54:40.007482Z",
     "iopub.status.idle": "2025-09-02T14:54:46.611643Z",
     "shell.execute_reply": "2025-09-02T14:54:46.610013Z",
     "shell.execute_reply.started": "2025-09-02T14:54:40.007825Z"
    },
    "trusted": true
   },
   "outputs": [
    {
     "name": "stdout",
     "output_type": "stream",
     "text": [
      "Starting to group products by order...\n",
      "Grouping complete!\n",
      "\n",
      "--- عينة من بيانات سلة المشتريات (كل صف هو طلبية واحدة) ---\n"
     ]
    },
    {
     "name": "stderr",
     "output_type": "stream",
     "text": [
      "                                                                                \r"
     ]
    },
    {
     "name": "stdout",
     "output_type": "stream",
     "text": [
      "+------------------------------------------------------------------------------------------------------+\n",
      "|items                                                                                                 |\n",
      "+------------------------------------------------------------------------------------------------------+\n",
      "|[e5f2d52b802189ee658865ca93d83a8f]                                                                    |\n",
      "|[ac6c3623068f30de03045865e4e10089]                                                                    |\n",
      "|[8d4f2bb7e93e6710a28f34fa83ee7d28]                                                                    |\n",
      "|[99a4788cb24856965c36a24e339b6058]                                                                    |\n",
      "|[4fa33915031a8cde03dd0d3e8fb27f01]                                                                    |\n",
      "|[1c05e0964302b6cf68ca0d15f326c6ba]                                                                    |\n",
      "|[e95ee6822b66ac6058e2e4aff656071a, e95ee6822b66ac6058e2e4aff656071a, e95ee6822b66ac6058e2e4aff656071a]|\n",
      "|[23365beed316535b4105bd800c46670e]                                                                    |\n",
      "|[50fd2b788dc166edd20512370dac54df]                                                                    |\n",
      "|[dbaee28f4ee64465838a229582d77520]                                                                    |\n",
      "+------------------------------------------------------------------------------------------------------+\n",
      "only showing top 10 rows\n",
      "\n"
     ]
    },
    {
     "name": "stderr",
     "output_type": "stream",
     "text": [
      "[Stage 89:===========================================>              (3 + 1) / 4]\r"
     ]
    },
    {
     "name": "stdout",
     "output_type": "stream",
     "text": [
      "\n",
      "معلومة إضافية: عدد الطلبيات التي تحتوي على أكثر من منتج واحد هو: 9635\n"
     ]
    },
    {
     "name": "stderr",
     "output_type": "stream",
     "text": [
      "                                                                                \r"
     ]
    }
   ],
   "source": [
    "from pyspark.sql.functions import collect_list, size, col\n",
    "print(\"Starting to group products by order...\")\n",
    "basket_data = final_df.groupBy(\"order_id\") \\\n",
    "                      .agg(collect_list(\"product_id\").alias(\"items\"))\n",
    "\n",
    "print(\"Grouping complete!\")\n",
    "print(\"\\n--- عينة من بيانات سلة المشتريات (كل صف هو طلبية واحدة) ---\")\n",
    "basket_data.select(\"items\").show(10, truncate=False)\n",
    "orders_with_multiple_items = basket_data.filter(size(col(\"items\")) > 1)\n",
    "print(f\"\\nمعلومة إضافية: عدد الطلبيات التي تحتوي على أكثر من منتج واحد هو: {orders_with_multiple_items.count()}\")"
   ]
  },
  {
   "cell_type": "code",
   "execution_count": null,
   "metadata": {
    "execution": {
     "iopub.execute_input": "2025-09-02T14:59:02.759311Z",
     "iopub.status.busy": "2025-09-02T14:59:02.758957Z",
     "iopub.status.idle": "2025-09-02T14:59:09.780728Z",
     "shell.execute_reply": "2025-09-02T14:59:09.779875Z",
     "shell.execute_reply.started": "2025-09-02T14:59:02.759290Z"
    },
    "trusted": true
   },
   "outputs": [
    {
     "name": "stdout",
     "output_type": "stream",
     "text": [
      "Training the FP-Growth model with relaxed settings...\n"
     ]
    },
    {
     "name": "stderr",
     "output_type": "stream",
     "text": [
      "                                                                                \r"
     ]
    },
    {
     "name": "stdout",
     "output_type": "stream",
     "text": [
      "Model training complete!\n",
      "\n",
      "--- Association Rules found by the relaxed model ---\n"
     ]
    },
    {
     "name": "stderr",
     "output_type": "stream",
     "text": [
      "[Stage 172:>                                                        (0 + 4) / 4]\r"
     ]
    },
    {
     "name": "stdout",
     "output_type": "stream",
     "text": [
      "+----------+----------+----------+----+-------+\n",
      "|antecedent|consequent|confidence|lift|support|\n",
      "+----------+----------+----------+----+-------+\n",
      "+----------+----------+----------+----+-------+\n",
      "\n",
      "\n",
      "--- Frequently purchased itemsets (relaxed model) ---\n",
      "+----------------------------------+----+\n",
      "|items                             |freq|\n",
      "+----------------------------------+----+\n",
      "|[97017430754804328eb9597b7f85da03]|65  |\n",
      "|[f35927953ed82e19d06ad3aac2f06353]|54  |\n",
      "|[7e0dc102074f8285580c9777f79c90cf]|62  |\n",
      "|[2a5806f10d0f00e5ad032dd2e3c8806e]|51  |\n",
      "|[d04857e7b4b708ee8b8b9921163edba3]|82  |\n",
      "|[2028bf1b01cafb2d2b1901fca4083222]|128 |\n",
      "|[36f60d45225e60c7da4558b070ce4b60]|110 |\n",
      "|[154e7e31ebfa092203795c972e5804a6]|262 |\n",
      "|[b532349fe46b38fbc7bb3914c1bdae07]|74  |\n",
      "|[d5991653e037ccb7af6ed7d94246b249]|57  |\n",
      "|[b0961721fd839e9982420e807758a2a6]|94  |\n",
      "|[19c91ef95d509ea33eda93495c4d3481]|153 |\n",
      "|[06c6e01186af8b98ee1fc9e01f9471e9]|55  |\n",
      "|[dbb67791e405873b259e4656bf971246]|63  |\n",
      "|[d696750e550fd0f733979dd7e5dff921]|52  |\n",
      "|[ee0c1cf2fbeae95205b4aa506f1469f0]|84  |\n",
      "|[54d9ac713e253fa1fae9c8003b011c2a]|114 |\n",
      "|[389d119b48cf3043d311335e499d9c6b]|309 |\n",
      "|[8ed094bfe076c568f6bb10feada3f75d]|49  |\n",
      "|[7814c273ab16783d73a9863ebfa8b141]|58  |\n",
      "+----------------------------------+----+\n",
      "only showing top 20 rows\n",
      "\n"
     ]
    },
    {
     "name": "stderr",
     "output_type": "stream",
     "text": [
      "                                                                                \r"
     ]
    }
   ],
   "source": [
    "from pyspark.ml.fpm import FPGrowth\n",
    "from pyspark.sql.functions import array_distinct\n",
    "\n",
    "cleaned_basket_data = basket_data.withColumn(\"items\", array_distinct(col(\"items\")))\n",
    "\n",
    "print(\"Training the FP-Growth model with relaxed settings...\")\n",
    "fpGrowth_relaxed = FPGrowth(itemsCol=\"items\", minSupport=0.0005, minConfidence=0.01)\n",
    "model_relaxed = fpGrowth_relaxed.fit(cleaned_basket_data)\n",
    "print(\"Model training complete!\")\n",
    "\n",
    "\n",
    "\n",
    "print(\"\\n--- Association Rules found by the relaxed model ---\")\n",
    "model_relaxed.associationRules.show(20, truncate=False)\n",
    "\n",
    "\n",
    "\n",
    "print(\"\\n--- Frequently purchased itemsets (relaxed model) ---\")\n",
    "model_relaxed.freqItemsets.show(20, truncate=False)\n"
   ]
  },
  {
   "cell_type": "code",
   "execution_count": null,
   "metadata": {
    "execution": {
     "iopub.execute_input": "2025-09-02T15:04:51.021068Z",
     "iopub.status.busy": "2025-09-02T15:04:51.019852Z",
     "iopub.status.idle": "2025-09-02T15:04:56.012781Z",
     "shell.execute_reply": "2025-09-02T15:04:56.010007Z",
     "shell.execute_reply.started": "2025-09-02T15:04:51.021025Z"
    },
    "trusted": true
   },
   "outputs": [
    {
     "name": "stdout",
     "output_type": "stream",
     "text": [
      "The 'current date' for Recency calculation is: 2018-08-30 15:00:37\n",
      "\n",
      "--- RFM metrics for each customer ---\n"
     ]
    },
    {
     "name": "stderr",
     "output_type": "stream",
     "text": [
      "[Stage 193:>                                                        (0 + 4) / 4]\r"
     ]
    },
    {
     "name": "stdout",
     "output_type": "stream",
     "text": [
      "+--------------------+-------+---------+--------+\n",
      "|         customer_id|recency|frequency|monetary|\n",
      "+--------------------+-------+---------+--------+\n",
      "|0721e1c4b91bc6ded...|    322|        1|    89.9|\n",
      "|36a1aa63bf2ebcd49...|    228|        1|   86.99|\n",
      "|80447be02d8f3f3f3...|    216|        1|    25.9|\n",
      "|6e48d7670ed33717b...|    162|        1|  116.99|\n",
      "|72ecfc69f7d90359d...|    170|        1|   110.0|\n",
      "|6f8b4eeaba59ef3fa...|    159|        1|   251.9|\n",
      "|a56b03f5e6015f1a5...|    430|        1|    49.9|\n",
      "|42da09831872a4ecc...|     36|        1|    76.0|\n",
      "|6f804e6a8f98ba0d1...|    421|        1|    34.9|\n",
      "|da14d636fdbf0cf7f...|     97|        1|   28.99|\n",
      "+--------------------+-------+---------+--------+\n",
      "only showing top 10 rows\n",
      "\n"
     ]
    },
    {
     "name": "stderr",
     "output_type": "stream",
     "text": [
      "                                                                                \r"
     ]
    }
   ],
   "source": [
    "from pyspark.sql.functions import col, max, countDistinct, sum, datediff, lit\n",
    "from pyspark.sql import Window\n",
    "\n",
    "latest_date = full_df.select(max(\"order_purchase_timestamp\")).first()[0]\n",
    "current_date = latest_date.replace(day=latest_date.day + 1)\n",
    "\n",
    "print(f\"The 'current date' for Recency calculation is: {current_date}\")\n",
    "\n",
    "rfm_intermediate = full_df.groupBy(\"customer_id\").agg(\n",
    "    \n",
    "    sum(\"price\").alias(\"monetary\"),\n",
    "   \n",
    "    countDistinct(\"order_id\").alias(\"frequency\"),\n",
    "    \n",
    "   \n",
    "    max(\"order_purchase_timestamp\").alias(\"last_purchase_date\")\n",
    ")\n",
    "\n",
    "rfm_df = rfm_intermediate.withColumn(\n",
    "    \"recency\",\n",
    "    datediff(lit(current_date), col(\"last_purchase_date\"))\n",
    ")\n",
    "\n",
    "print(\"\\n--- RFM metrics for each customer ---\")\n",
    "rfm_df.select(\"customer_id\", \"recency\", \"frequency\", \"monetary\").show(10)\n",
    "\n"
   ]
  },
  {
   "cell_type": "code",
   "execution_count": null,
   "metadata": {
    "execution": {
     "iopub.execute_input": "2025-09-02T15:05:37.017592Z",
     "iopub.status.busy": "2025-09-02T15:05:37.017215Z",
     "iopub.status.idle": "2025-09-02T15:05:42.287969Z",
     "shell.execute_reply": "2025-09-02T15:05:42.282283Z",
     "shell.execute_reply.started": "2025-09-02T15:05:37.017569Z"
    },
    "trusted": true
   },
   "outputs": [
    {
     "name": "stdout",
     "output_type": "stream",
     "text": [
      "--- RFM Scores for each customer ---\n"
     ]
    },
    {
     "name": "stderr",
     "output_type": "stream",
     "text": [
      "25/09/02 15:05:37 WARN WindowExec: No Partition Defined for Window operation! Moving all data to a single partition, this can cause serious performance degradation.\n",
      "25/09/02 15:05:37 WARN WindowExec: No Partition Defined for Window operation! Moving all data to a single partition, this can cause serious performance degradation.\n",
      "25/09/02 15:05:37 WARN WindowExec: No Partition Defined for Window operation! Moving all data to a single partition, this can cause serious performance degradation.\n",
      "25/09/02 15:05:37 WARN WindowExec: No Partition Defined for Window operation! Moving all data to a single partition, this can cause serious performance degradation.\n",
      "25/09/02 15:05:37 WARN WindowExec: No Partition Defined for Window operation! Moving all data to a single partition, this can cause serious performance degradation.\n",
      "25/09/02 15:05:37 WARN WindowExec: No Partition Defined for Window operation! Moving all data to a single partition, this can cause serious performance degradation.\n",
      "25/09/02 15:05:37 WARN WindowExec: No Partition Defined for Window operation! Moving all data to a single partition, this can cause serious performance degradation.\n",
      "25/09/02 15:05:38 WARN WindowExec: No Partition Defined for Window operation! Moving all data to a single partition, this can cause serious performance degradation.\n",
      "25/09/02 15:05:38 WARN WindowExec: No Partition Defined for Window operation! Moving all data to a single partition, this can cause serious performance degradation.\n",
      "25/09/02 15:05:38 WARN WindowExec: No Partition Defined for Window operation! Moving all data to a single partition, this can cause serious performance degradation.\n",
      "25/09/02 15:05:38 WARN WindowExec: No Partition Defined for Window operation! Moving all data to a single partition, this can cause serious performance degradation.\n",
      "25/09/02 15:05:38 WARN WindowExec: No Partition Defined for Window operation! Moving all data to a single partition, this can cause serious performance degradation.\n",
      "25/09/02 15:05:38 WARN WindowExec: No Partition Defined for Window operation! Moving all data to a single partition, this can cause serious performance degradation.\n",
      "25/09/02 15:05:38 WARN WindowExec: No Partition Defined for Window operation! Moving all data to a single partition, this can cause serious performance degradation.\n",
      "25/09/02 15:05:38 WARN WindowExec: No Partition Defined for Window operation! Moving all data to a single partition, this can cause serious performance degradation.\n",
      "25/09/02 15:05:38 WARN WindowExec: No Partition Defined for Window operation! Moving all data to a single partition, this can cause serious performance degradation.\n",
      "25/09/02 15:05:38 WARN WindowExec: No Partition Defined for Window operation! Moving all data to a single partition, this can cause serious performance degradation.\n",
      "25/09/02 15:05:38 WARN WindowExec: No Partition Defined for Window operation! Moving all data to a single partition, this can cause serious performance degradation.\n",
      "25/09/02 15:05:38 WARN WindowExec: No Partition Defined for Window operation! Moving all data to a single partition, this can cause serious performance degradation.\n",
      "25/09/02 15:05:39 WARN WindowExec: No Partition Defined for Window operation! Moving all data to a single partition, this can cause serious performance degradation.\n",
      "25/09/02 15:05:39 WARN WindowExec: No Partition Defined for Window operation! Moving all data to a single partition, this can cause serious performance degradation.\n",
      "25/09/02 15:05:39 WARN WindowExec: No Partition Defined for Window operation! Moving all data to a single partition, this can cause serious performance degradation.\n",
      "25/09/02 15:05:39 WARN WindowExec: No Partition Defined for Window operation! Moving all data to a single partition, this can cause serious performance degradation.\n",
      "25/09/02 15:05:39 WARN WindowExec: No Partition Defined for Window operation! Moving all data to a single partition, this can cause serious performance degradation.\n",
      "25/09/02 15:05:39 WARN WindowExec: No Partition Defined for Window operation! Moving all data to a single partition, this can cause serious performance degradation.\n",
      "25/09/02 15:05:40 WARN WindowExec: No Partition Defined for Window operation! Moving all data to a single partition, this can cause serious performance degradation.\n",
      "25/09/02 15:05:40 WARN WindowExec: No Partition Defined for Window operation! Moving all data to a single partition, this can cause serious performance degradation.\n",
      "25/09/02 15:05:40 WARN WindowExec: No Partition Defined for Window operation! Moving all data to a single partition, this can cause serious performance degradation.\n",
      "25/09/02 15:05:40 WARN WindowExec: No Partition Defined for Window operation! Moving all data to a single partition, this can cause serious performance degradation.\n",
      "25/09/02 15:05:40 WARN WindowExec: No Partition Defined for Window operation! Moving all data to a single partition, this can cause serious performance degradation.\n",
      "25/09/02 15:05:40 WARN WindowExec: No Partition Defined for Window operation! Moving all data to a single partition, this can cause serious performance degradation.\n",
      "25/09/02 15:05:41 WARN WindowExec: No Partition Defined for Window operation! Moving all data to a single partition, this can cause serious performance degradation.\n",
      "25/09/02 15:05:41 WARN WindowExec: No Partition Defined for Window operation! Moving all data to a single partition, this can cause serious performance degradation.\n",
      "25/09/02 15:05:41 WARN WindowExec: No Partition Defined for Window operation! Moving all data to a single partition, this can cause serious performance degradation.\n",
      "25/09/02 15:05:41 WARN WindowExec: No Partition Defined for Window operation! Moving all data to a single partition, this can cause serious performance degradation.\n",
      "25/09/02 15:05:41 WARN WindowExec: No Partition Defined for Window operation! Moving all data to a single partition, this can cause serious performance degradation.\n",
      "25/09/02 15:05:41 WARN WindowExec: No Partition Defined for Window operation! Moving all data to a single partition, this can cause serious performance degradation.\n",
      "[Stage 208:>                                                        (0 + 1) / 1]\r"
     ]
    },
    {
     "name": "stdout",
     "output_type": "stream",
     "text": [
      "+--------------------+-------+---------+--------+-------+-------+-------+\n",
      "|         customer_id|recency|frequency|monetary|r_score|f_score|m_score|\n",
      "+--------------------+-------+---------+--------+-------+-------+-------+\n",
      "|9f9d249355f63c5c1...|    128|        1|    0.85|      3|      3|      1|\n",
      "|161b6d415e8b3413c...|    128|        1|    0.85|      3|      3|      1|\n",
      "|a790343ca6f3fee08...|      5|        1|     2.2|      4|      4|      1|\n",
      "|184e8e8e48937145e...|    351|        1|    2.29|      1|      1|      1|\n",
      "|d2c63ad286e3ca9dd...|    602|        1|     2.9|      1|      1|      1|\n",
      "|5ac9fcc9259df95cf...|    209|        1|    2.99|      3|      3|      1|\n",
      "|77a34d46f6ebd1dcb...|     58|        1|     3.0|      4|      4|      1|\n",
      "|deaf712a6d3021707...|     20|        1|     3.0|      4|      4|      1|\n",
      "|40ada5e3dc4b3c488...|    432|        1|    3.49|      1|      1|      1|\n",
      "|8e4bd65db637116b6...|     70|        1|     3.5|      4|      4|      1|\n",
      "+--------------------+-------+---------+--------+-------+-------+-------+\n",
      "only showing top 10 rows\n",
      "\n"
     ]
    },
    {
     "name": "stderr",
     "output_type": "stream",
     "text": [
      "                                                                                \r"
     ]
    }
   ],
   "source": [
    "from pyspark.sql.functions import ntile\n",
    "from pyspark.sql import Window\n",
    "recency_window = Window.orderBy(col(\"recency\").desc())\n",
    "\n",
    "frequency_window = Window.orderBy(col(\"frequency\").asc())\n",
    "monetary_window = Window.orderBy(col(\"monetary\").asc())\n",
    "rfm_scores = rfm_df.withColumn(\"r_score\", ntile(4).over(recency_window)) \\\n",
    "                   .withColumn(\"f_score\", ntile(4).over(frequency_window)) \\\n",
    "                   .withColumn(\"m_score\", ntile(4).over(monetary_window))\n",
    "\n",
    "print(\"--- RFM Scores for each customer ---\")\n",
    "rfm_scores.select(\"customer_id\", \"recency\", \"frequency\", \"monetary\", \"r_score\", \"f_score\", \"m_score\").show(10)\n"
   ]
  },
  {
   "cell_type": "code",
   "execution_count": null,
   "metadata": {
    "execution": {
     "iopub.execute_input": "2025-09-02T15:06:33.447941Z",
     "iopub.status.busy": "2025-09-02T15:06:33.447608Z",
     "iopub.status.idle": "2025-09-02T15:06:40.326172Z",
     "shell.execute_reply": "2025-09-02T15:06:40.323853Z",
     "shell.execute_reply.started": "2025-09-02T15:06:33.447922Z"
    },
    "trusted": true
   },
   "outputs": [
    {
     "name": "stdout",
     "output_type": "stream",
     "text": [
      "--- Final Customer Segments ---\n"
     ]
    },
    {
     "name": "stderr",
     "output_type": "stream",
     "text": [
      "25/09/02 15:06:33 WARN WindowExec: No Partition Defined for Window operation! Moving all data to a single partition, this can cause serious performance degradation.\n",
      "25/09/02 15:06:33 WARN WindowExec: No Partition Defined for Window operation! Moving all data to a single partition, this can cause serious performance degradation.\n",
      "25/09/02 15:06:33 WARN WindowExec: No Partition Defined for Window operation! Moving all data to a single partition, this can cause serious performance degradation.\n",
      "25/09/02 15:06:33 WARN WindowExec: No Partition Defined for Window operation! Moving all data to a single partition, this can cause serious performance degradation.\n",
      "25/09/02 15:06:33 WARN WindowExec: No Partition Defined for Window operation! Moving all data to a single partition, this can cause serious performance degradation.\n",
      "25/09/02 15:06:33 WARN WindowExec: No Partition Defined for Window operation! Moving all data to a single partition, this can cause serious performance degradation.\n",
      "25/09/02 15:06:33 WARN WindowExec: No Partition Defined for Window operation! Moving all data to a single partition, this can cause serious performance degradation.\n",
      "25/09/02 15:06:34 WARN WindowExec: No Partition Defined for Window operation! Moving all data to a single partition, this can cause serious performance degradation.\n",
      "25/09/02 15:06:34 WARN WindowExec: No Partition Defined for Window operation! Moving all data to a single partition, this can cause serious performance degradation.\n",
      "25/09/02 15:06:34 WARN WindowExec: No Partition Defined for Window operation! Moving all data to a single partition, this can cause serious performance degradation.\n",
      "25/09/02 15:06:34 WARN WindowExec: No Partition Defined for Window operation! Moving all data to a single partition, this can cause serious performance degradation.\n",
      "25/09/02 15:06:34 WARN WindowExec: No Partition Defined for Window operation! Moving all data to a single partition, this can cause serious performance degradation.\n",
      "25/09/02 15:06:34 WARN WindowExec: No Partition Defined for Window operation! Moving all data to a single partition, this can cause serious performance degradation.\n",
      "25/09/02 15:06:34 WARN WindowExec: No Partition Defined for Window operation! Moving all data to a single partition, this can cause serious performance degradation.\n",
      "25/09/02 15:06:34 WARN WindowExec: No Partition Defined for Window operation! Moving all data to a single partition, this can cause serious performance degradation.\n",
      "25/09/02 15:06:34 WARN WindowExec: No Partition Defined for Window operation! Moving all data to a single partition, this can cause serious performance degradation.\n",
      "25/09/02 15:06:34 WARN WindowExec: No Partition Defined for Window operation! Moving all data to a single partition, this can cause serious performance degradation.\n",
      "25/09/02 15:06:34 WARN WindowExec: No Partition Defined for Window operation! Moving all data to a single partition, this can cause serious performance degradation.\n",
      "25/09/02 15:06:34 WARN WindowExec: No Partition Defined for Window operation! Moving all data to a single partition, this can cause serious performance degradation.\n",
      "25/09/02 15:06:35 WARN WindowExec: No Partition Defined for Window operation! Moving all data to a single partition, this can cause serious performance degradation.\n",
      "25/09/02 15:06:35 WARN WindowExec: No Partition Defined for Window operation! Moving all data to a single partition, this can cause serious performance degradation.\n",
      "25/09/02 15:06:35 WARN WindowExec: No Partition Defined for Window operation! Moving all data to a single partition, this can cause serious performance degradation.\n",
      "25/09/02 15:06:35 WARN WindowExec: No Partition Defined for Window operation! Moving all data to a single partition, this can cause serious performance degradation.\n",
      "25/09/02 15:06:35 WARN WindowExec: No Partition Defined for Window operation! Moving all data to a single partition, this can cause serious performance degradation.\n",
      "25/09/02 15:06:35 WARN WindowExec: No Partition Defined for Window operation! Moving all data to a single partition, this can cause serious performance degradation.\n",
      "25/09/02 15:06:35 WARN WindowExec: No Partition Defined for Window operation! Moving all data to a single partition, this can cause serious performance degradation.\n",
      "25/09/02 15:06:35 WARN WindowExec: No Partition Defined for Window operation! Moving all data to a single partition, this can cause serious performance degradation.\n",
      "25/09/02 15:06:35 WARN WindowExec: No Partition Defined for Window operation! Moving all data to a single partition, this can cause serious performance degradation.\n",
      "25/09/02 15:06:35 WARN WindowExec: No Partition Defined for Window operation! Moving all data to a single partition, this can cause serious performance degradation.\n",
      "25/09/02 15:06:35 WARN WindowExec: No Partition Defined for Window operation! Moving all data to a single partition, this can cause serious performance degradation.\n",
      "25/09/02 15:06:35 WARN WindowExec: No Partition Defined for Window operation! Moving all data to a single partition, this can cause serious performance degradation.\n",
      "25/09/02 15:06:36 WARN WindowExec: No Partition Defined for Window operation! Moving all data to a single partition, this can cause serious performance degradation.\n",
      "25/09/02 15:06:36 WARN WindowExec: No Partition Defined for Window operation! Moving all data to a single partition, this can cause serious performance degradation.\n",
      "25/09/02 15:06:36 WARN WindowExec: No Partition Defined for Window operation! Moving all data to a single partition, this can cause serious performance degradation.\n",
      "25/09/02 15:06:36 WARN WindowExec: No Partition Defined for Window operation! Moving all data to a single partition, this can cause serious performance degradation.\n",
      "25/09/02 15:06:36 WARN WindowExec: No Partition Defined for Window operation! Moving all data to a single partition, this can cause serious performance degradation.\n",
      "25/09/02 15:06:36 WARN WindowExec: No Partition Defined for Window operation! Moving all data to a single partition, this can cause serious performance degradation.\n",
      "25/09/02 15:06:36 WARN WindowExec: No Partition Defined for Window operation! Moving all data to a single partition, this can cause serious performance degradation.\n",
      "25/09/02 15:06:36 WARN WindowExec: No Partition Defined for Window operation! Moving all data to a single partition, this can cause serious performance degradation.\n",
      "25/09/02 15:06:36 WARN WindowExec: No Partition Defined for Window operation! Moving all data to a single partition, this can cause serious performance degradation.\n",
      "25/09/02 15:06:37 WARN WindowExec: No Partition Defined for Window operation! Moving all data to a single partition, this can cause serious performance degradation.\n",
      "25/09/02 15:06:37 WARN WindowExec: No Partition Defined for Window operation! Moving all data to a single partition, this can cause serious performance degradation.\n",
      "25/09/02 15:06:37 WARN WindowExec: No Partition Defined for Window operation! Moving all data to a single partition, this can cause serious performance degradation.\n"
     ]
    },
    {
     "name": "stdout",
     "output_type": "stream",
     "text": [
      "+--------------------+-------+---------+--------+-----------+--------------------+\n",
      "|         customer_id|recency|frequency|monetary|rfm_segment|        segment_name|\n",
      "+--------------------+-------+---------+--------+-----------+--------------------+\n",
      "|9f9d249355f63c5c1...|    128|        1|    0.85|        331|عملاء واعدون (Pot...|\n",
      "|161b6d415e8b3413c...|    128|        1|    0.85|        331|عملاء واعدون (Pot...|\n",
      "|a790343ca6f3fee08...|      5|        1|     2.2|        441|عملاء واعدون (Pot...|\n",
      "|184e8e8e48937145e...|    351|        1|    2.29|        111|عملاء خاملون (Hib...|\n",
      "|d2c63ad286e3ca9dd...|    602|        1|     2.9|        111|عملاء خاملون (Hib...|\n",
      "|5ac9fcc9259df95cf...|    209|        1|    2.99|        331|عملاء واعدون (Pot...|\n",
      "|77a34d46f6ebd1dcb...|     58|        1|     3.0|        441|عملاء واعدون (Pot...|\n",
      "|deaf712a6d3021707...|     20|        1|     3.0|        441|عملاء واعدون (Pot...|\n",
      "|40ada5e3dc4b3c488...|    432|        1|    3.49|        111|عملاء خاملون (Hib...|\n",
      "|8e4bd65db637116b6...|     70|        1|     3.5|        441|عملاء واعدون (Pot...|\n",
      "|13a92c60521dad720...|    197|        1|    3.54|        331|عملاء واعدون (Pot...|\n",
      "|c466c7e0ab222e3ef...|    362|        1|    3.85|        111|عملاء خاملون (Hib...|\n",
      "|55cd7bfe95dcd698a...|    305|        1|    3.85|        221|عملاء خاملون (Hib...|\n",
      "|046f890135acc703f...|     69|        1|    3.85|        441|عملاء واعدون (Pot...|\n",
      "|3bb0f1d5881cfaf2d...|    581|        1|     3.9|        111|عملاء خاملون (Hib...|\n",
      "|80157a9c833362661...|    434|        1|     3.9|        111|عملاء خاملون (Hib...|\n",
      "|fc01c21e3a2b27c4d...|    396|        1|     3.9|        111|عملاء خاملون (Hib...|\n",
      "|0253cea0ff18bf585...|    294|        1|     3.9|        221|عملاء خاملون (Hib...|\n",
      "|f785a4fc69eb2ba07...|    364|        1|    3.99|        111|عملاء خاملون (Hib...|\n",
      "|a32bc3f28044954fa...|     85|        1|    3.99|        441|عملاء واعدون (Pot...|\n",
      "+--------------------+-------+---------+--------+-----------+--------------------+\n",
      "only showing top 20 rows\n",
      "\n",
      "\n",
      "--- Customer Count by Segment ---\n"
     ]
    },
    {
     "name": "stderr",
     "output_type": "stream",
     "text": [
      "25/09/02 15:06:37 WARN WindowExec: No Partition Defined for Window operation! Moving all data to a single partition, this can cause serious performance degradation.\n",
      "25/09/02 15:06:37 WARN WindowExec: No Partition Defined for Window operation! Moving all data to a single partition, this can cause serious performance degradation.\n",
      "25/09/02 15:06:37 WARN WindowExec: No Partition Defined for Window operation! Moving all data to a single partition, this can cause serious performance degradation.\n",
      "25/09/02 15:06:37 WARN WindowExec: No Partition Defined for Window operation! Moving all data to a single partition, this can cause serious performance degradation.\n",
      "25/09/02 15:06:37 WARN WindowExec: No Partition Defined for Window operation! Moving all data to a single partition, this can cause serious performance degradation.\n",
      "25/09/02 15:06:37 WARN WindowExec: No Partition Defined for Window operation! Moving all data to a single partition, this can cause serious performance degradation.\n",
      "25/09/02 15:06:37 WARN WindowExec: No Partition Defined for Window operation! Moving all data to a single partition, this can cause serious performance degradation.\n",
      "25/09/02 15:06:37 WARN WindowExec: No Partition Defined for Window operation! Moving all data to a single partition, this can cause serious performance degradation.\n",
      "25/09/02 15:06:37 WARN WindowExec: No Partition Defined for Window operation! Moving all data to a single partition, this can cause serious performance degradation.\n",
      "25/09/02 15:06:37 WARN WindowExec: No Partition Defined for Window operation! Moving all data to a single partition, this can cause serious performance degradation.\n",
      "25/09/02 15:06:37 WARN WindowExec: No Partition Defined for Window operation! Moving all data to a single partition, this can cause serious performance degradation.\n",
      "25/09/02 15:06:37 WARN WindowExec: No Partition Defined for Window operation! Moving all data to a single partition, this can cause serious performance degradation.\n",
      "25/09/02 15:06:38 WARN WindowExec: No Partition Defined for Window operation! Moving all data to a single partition, this can cause serious performance degradation.\n",
      "25/09/02 15:06:38 WARN WindowExec: No Partition Defined for Window operation! Moving all data to a single partition, this can cause serious performance degradation.\n",
      "25/09/02 15:06:38 WARN WindowExec: No Partition Defined for Window operation! Moving all data to a single partition, this can cause serious performance degradation.\n",
      "25/09/02 15:06:38 WARN WindowExec: No Partition Defined for Window operation! Moving all data to a single partition, this can cause serious performance degradation.\n",
      "25/09/02 15:06:38 WARN WindowExec: No Partition Defined for Window operation! Moving all data to a single partition, this can cause serious performance degradation.\n",
      "25/09/02 15:06:38 WARN WindowExec: No Partition Defined for Window operation! Moving all data to a single partition, this can cause serious performance degradation.\n",
      "25/09/02 15:06:38 WARN WindowExec: No Partition Defined for Window operation! Moving all data to a single partition, this can cause serious performance degradation.\n",
      "25/09/02 15:06:38 WARN WindowExec: No Partition Defined for Window operation! Moving all data to a single partition, this can cause serious performance degradation.\n",
      "25/09/02 15:06:38 WARN WindowExec: No Partition Defined for Window operation! Moving all data to a single partition, this can cause serious performance degradation.\n",
      "25/09/02 15:06:38 WARN WindowExec: No Partition Defined for Window operation! Moving all data to a single partition, this can cause serious performance degradation.\n",
      "25/09/02 15:06:38 WARN WindowExec: No Partition Defined for Window operation! Moving all data to a single partition, this can cause serious performance degradation.\n",
      "25/09/02 15:06:38 WARN WindowExec: No Partition Defined for Window operation! Moving all data to a single partition, this can cause serious performance degradation.\n",
      "25/09/02 15:06:39 WARN WindowExec: No Partition Defined for Window operation! Moving all data to a single partition, this can cause serious performance degradation.\n",
      "25/09/02 15:06:39 WARN WindowExec: No Partition Defined for Window operation! Moving all data to a single partition, this can cause serious performance degradation.\n",
      "25/09/02 15:06:39 WARN WindowExec: No Partition Defined for Window operation! Moving all data to a single partition, this can cause serious performance degradation.\n",
      "25/09/02 15:06:39 WARN WindowExec: No Partition Defined for Window operation! Moving all data to a single partition, this can cause serious performance degradation.\n",
      "25/09/02 15:06:39 WARN WindowExec: No Partition Defined for Window operation! Moving all data to a single partition, this can cause serious performance degradation.\n",
      "25/09/02 15:06:39 WARN WindowExec: No Partition Defined for Window operation! Moving all data to a single partition, this can cause serious performance degradation.\n"
     ]
    },
    {
     "name": "stdout",
     "output_type": "stream",
     "text": [
      "+--------------------+-----+\n",
      "|        segment_name|count|\n",
      "+--------------------+-----+\n",
      "|عملاء خاملون (Hib...|24334|\n",
      "|عملاء واعدون (Pot...|23906|\n",
      "|      آخرون (Others)|23906|\n",
      "|عملاء مخلصون (Loy...|12235|\n",
      "|أفضل العملاء (Cha...|12097|\n",
      "+--------------------+-----+\n",
      "\n"
     ]
    },
    {
     "name": "stderr",
     "output_type": "stream",
     "text": [
      "                                                                                \r"
     ]
    }
   ],
   "source": [
    "from pyspark.sql.functions import concat, when\n",
    "\n",
    "\n",
    "rfm_segments = rfm_scores.withColumn(\n",
    "    \"rfm_segment\",\n",
    "    concat(col(\"r_score\"), col(\"f_score\"), col(\"m_score\"))\n",
    ")\n",
    "\n",
    "final_rfm = rfm_segments.withColumn(\n",
    "    \"segment_name\",\n",
    "    when(col(\"rfm_segment\").isin(\"444\", \"443\", \"434\", \"344\"), \"أفضل العملاء (Champions)\")\n",
    "    .when(col(\"rfm_segment\").isin(\"333\", \"334\", \"343\", \"433\"), \"عملاء مخلصون (Loyal Customers)\")\n",
    "    .when(col(\"rfm_segment\").isin(\"441\", \"442\", \"431\", \"432\", \"422\", \"421\", \"341\", \"342\", \"331\", \"332\"), \"عملاء واعدون (Potential Loyalists)\")\n",
    "    .when(col(\"rfm_segment\").isin(\"411\", \"412\", \"423\"), \"عملاء جدد (New Customers)\")\n",
    "    .when(col(\"rfm_segment\").isin(\"244\", \"243\", \"234\", \"144\", \"143\", \"134\"), \"عملاء معرضون للخطر (At Risk)\")\n",
    "    .when(col(\"rfm_segment\").isin(\"111\", \"112\", \"121\", \"122\", \"211\", \"212\", \"221\", \"222\"), \"عملاء خاملون (Hibernating)\")\n",
    "    .when(col(\"rfm_segment\").isin(\"133\", \"132\", \"142\", \"241\", \"231\", \"242\", \"232\"), \"عملاء على وشك الضياع (About to Sleep)\")\n",
    "    .otherwise(\"آخرون (Others)\") \n",
    ")\n",
    "\n",
    "print(\"--- Final Customer Segments ---\")\n",
    "final_rfm.select(\"customer_id\", \"recency\", \"frequency\", \"monetary\", \"rfm_segment\", \"segment_name\").show(20)\n",
    "print(\"\\n--- Customer Count by Segment ---\")\n",
    "final_rfm.groupBy(\"segment_name\").count().orderBy(col(\"count\").desc()).show()\n",
    "\n"
   ]
  },
  {
   "cell_type": "code",
   "execution_count": null,
   "metadata": {
    "execution": {
     "iopub.execute_input": "2025-09-02T15:09:09.953583Z",
     "iopub.status.busy": "2025-09-02T15:09:09.953120Z",
     "iopub.status.idle": "2025-09-02T15:09:25.914162Z",
     "shell.execute_reply": "2025-09-02T15:09:25.912995Z",
     "shell.execute_reply.started": "2025-09-02T15:09:09.953555Z"
    },
    "trusted": true
   },
   "outputs": [
    {
     "name": "stdout",
     "output_type": "stream",
     "text": [
      "Starting to save final DataFrames to CSV files in: /kaggle/working/\n"
     ]
    },
    {
     "name": "stderr",
     "output_type": "stream",
     "text": [
      "25/09/02 15:09:10 WARN WindowExec: No Partition Defined for Window operation! Moving all data to a single partition, this can cause serious performance degradation.\n",
      "25/09/02 15:09:10 WARN WindowExec: No Partition Defined for Window operation! Moving all data to a single partition, this can cause serious performance degradation.\n",
      "25/09/02 15:09:10 WARN WindowExec: No Partition Defined for Window operation! Moving all data to a single partition, this can cause serious performance degradation.\n",
      "25/09/02 15:09:10 WARN WindowExec: No Partition Defined for Window operation! Moving all data to a single partition, this can cause serious performance degradation.\n",
      "25/09/02 15:09:10 WARN WindowExec: No Partition Defined for Window operation! Moving all data to a single partition, this can cause serious performance degradation.\n",
      "25/09/02 15:09:10 WARN WindowExec: No Partition Defined for Window operation! Moving all data to a single partition, this can cause serious performance degradation.\n",
      "25/09/02 15:09:10 WARN WindowExec: No Partition Defined for Window operation! Moving all data to a single partition, this can cause serious performance degradation.\n",
      "25/09/02 15:09:10 WARN WindowExec: No Partition Defined for Window operation! Moving all data to a single partition, this can cause serious performance degradation.\n",
      "25/09/02 15:09:10 WARN WindowExec: No Partition Defined for Window operation! Moving all data to a single partition, this can cause serious performance degradation.\n",
      "25/09/02 15:09:10 WARN WindowExec: No Partition Defined for Window operation! Moving all data to a single partition, this can cause serious performance degradation.\n",
      "25/09/02 15:09:10 WARN WindowExec: No Partition Defined for Window operation! Moving all data to a single partition, this can cause serious performance degradation.\n",
      "25/09/02 15:09:10 WARN WindowExec: No Partition Defined for Window operation! Moving all data to a single partition, this can cause serious performance degradation.\n",
      "25/09/02 15:09:10 WARN WindowExec: No Partition Defined for Window operation! Moving all data to a single partition, this can cause serious performance degradation.\n",
      "25/09/02 15:09:10 WARN WindowExec: No Partition Defined for Window operation! Moving all data to a single partition, this can cause serious performance degradation.\n",
      "25/09/02 15:09:10 WARN WindowExec: No Partition Defined for Window operation! Moving all data to a single partition, this can cause serious performance degradation.\n",
      "25/09/02 15:09:10 WARN WindowExec: No Partition Defined for Window operation! Moving all data to a single partition, this can cause serious performance degradation.\n",
      "25/09/02 15:09:10 WARN WindowExec: No Partition Defined for Window operation! Moving all data to a single partition, this can cause serious performance degradation.\n",
      "25/09/02 15:09:10 WARN WindowExec: No Partition Defined for Window operation! Moving all data to a single partition, this can cause serious performance degradation.\n",
      "25/09/02 15:09:11 WARN WindowExec: No Partition Defined for Window operation! Moving all data to a single partition, this can cause serious performance degradation.\n",
      "25/09/02 15:09:11 WARN WindowExec: No Partition Defined for Window operation! Moving all data to a single partition, this can cause serious performance degradation.\n",
      "25/09/02 15:09:11 WARN WindowExec: No Partition Defined for Window operation! Moving all data to a single partition, this can cause serious performance degradation.\n",
      "25/09/02 15:09:11 WARN WindowExec: No Partition Defined for Window operation! Moving all data to a single partition, this can cause serious performance degradation.\n",
      "25/09/02 15:09:11 WARN WindowExec: No Partition Defined for Window operation! Moving all data to a single partition, this can cause serious performance degradation.\n",
      "25/09/02 15:09:11 WARN WindowExec: No Partition Defined for Window operation! Moving all data to a single partition, this can cause serious performance degradation.\n",
      "25/09/02 15:09:12 WARN WindowExec: No Partition Defined for Window operation! Moving all data to a single partition, this can cause serious performance degradation.\n",
      "25/09/02 15:09:12 WARN WindowExec: No Partition Defined for Window operation! Moving all data to a single partition, this can cause serious performance degradation.\n",
      "25/09/02 15:09:12 WARN WindowExec: No Partition Defined for Window operation! Moving all data to a single partition, this can cause serious performance degradation.\n",
      "25/09/02 15:09:12 WARN WindowExec: No Partition Defined for Window operation! Moving all data to a single partition, this can cause serious performance degradation.\n",
      "25/09/02 15:09:12 WARN WindowExec: No Partition Defined for Window operation! Moving all data to a single partition, this can cause serious performance degradation.\n",
      "25/09/02 15:09:12 WARN WindowExec: No Partition Defined for Window operation! Moving all data to a single partition, this can cause serious performance degradation.\n",
      "25/09/02 15:09:12 WARN WindowExec: No Partition Defined for Window operation! Moving all data to a single partition, this can cause serious performance degradation.\n",
      "25/09/02 15:09:12 WARN WindowExec: No Partition Defined for Window operation! Moving all data to a single partition, this can cause serious performance degradation.\n",
      "25/09/02 15:09:12 WARN WindowExec: No Partition Defined for Window operation! Moving all data to a single partition, this can cause serious performance degradation.\n",
      "25/09/02 15:09:12 WARN WindowExec: No Partition Defined for Window operation! Moving all data to a single partition, this can cause serious performance degradation.\n",
      "25/09/02 15:09:12 WARN WindowExec: No Partition Defined for Window operation! Moving all data to a single partition, this can cause serious performance degradation.\n",
      "25/09/02 15:09:12 WARN WindowExec: No Partition Defined for Window operation! Moving all data to a single partition, this can cause serious performance degradation.\n",
      "25/09/02 15:09:14 WARN WindowExec: No Partition Defined for Window operation! Moving all data to a single partition, this can cause serious performance degradation.\n",
      "25/09/02 15:09:14 WARN WindowExec: No Partition Defined for Window operation! Moving all data to a single partition, this can cause serious performance degradation.\n",
      "25/09/02 15:09:14 WARN WindowExec: No Partition Defined for Window operation! Moving all data to a single partition, this can cause serious performance degradation.\n",
      "25/09/02 15:09:14 WARN WindowExec: No Partition Defined for Window operation! Moving all data to a single partition, this can cause serious performance degradation.\n",
      "25/09/02 15:09:14 WARN WindowExec: No Partition Defined for Window operation! Moving all data to a single partition, this can cause serious performance degradation.\n",
      "25/09/02 15:09:14 WARN WindowExec: No Partition Defined for Window operation! Moving all data to a single partition, this can cause serious performance degradation.\n",
      "25/09/02 15:09:15 WARN WindowExec: No Partition Defined for Window operation! Moving all data to a single partition, this can cause serious performance degradation.\n",
      "25/09/02 15:09:15 WARN WindowExec: No Partition Defined for Window operation! Moving all data to a single partition, this can cause serious performance degradation.\n",
      "25/09/02 15:09:15 WARN WindowExec: No Partition Defined for Window operation! Moving all data to a single partition, this can cause serious performance degradation.\n",
      "25/09/02 15:09:15 WARN WindowExec: No Partition Defined for Window operation! Moving all data to a single partition, this can cause serious performance degradation.\n",
      "25/09/02 15:09:15 WARN WindowExec: No Partition Defined for Window operation! Moving all data to a single partition, this can cause serious performance degradation.\n",
      "25/09/02 15:09:15 WARN WindowExec: No Partition Defined for Window operation! Moving all data to a single partition, this can cause serious performance degradation.\n",
      "25/09/02 15:09:15 WARN WindowExec: No Partition Defined for Window operation! Moving all data to a single partition, this can cause serious performance degradation.\n",
      "25/09/02 15:09:15 WARN WindowExec: No Partition Defined for Window operation! Moving all data to a single partition, this can cause serious performance degradation.\n",
      "25/09/02 15:09:15 WARN WindowExec: No Partition Defined for Window operation! Moving all data to a single partition, this can cause serious performance degradation.\n",
      "25/09/02 15:09:15 WARN WindowExec: No Partition Defined for Window operation! Moving all data to a single partition, this can cause serious performance degradation.\n",
      "25/09/02 15:09:15 WARN WindowExec: No Partition Defined for Window operation! Moving all data to a single partition, this can cause serious performance degradation.\n",
      "25/09/02 15:09:15 WARN WindowExec: No Partition Defined for Window operation! Moving all data to a single partition, this can cause serious performance degradation.\n",
      "25/09/02 15:09:16 WARN WindowExec: No Partition Defined for Window operation! Moving all data to a single partition, this can cause serious performance degradation.\n",
      "25/09/02 15:09:16 WARN WindowExec: No Partition Defined for Window operation! Moving all data to a single partition, this can cause serious performance degradation.\n",
      "25/09/02 15:09:16 WARN WindowExec: No Partition Defined for Window operation! Moving all data to a single partition, this can cause serious performance degradation.\n",
      "25/09/02 15:09:16 WARN WindowExec: No Partition Defined for Window operation! Moving all data to a single partition, this can cause serious performance degradation.\n",
      "25/09/02 15:09:16 WARN WindowExec: No Partition Defined for Window operation! Moving all data to a single partition, this can cause serious performance degradation.\n",
      "25/09/02 15:09:16 WARN WindowExec: No Partition Defined for Window operation! Moving all data to a single partition, this can cause serious performance degradation.\n",
      "25/09/02 15:09:16 WARN WindowExec: No Partition Defined for Window operation! Moving all data to a single partition, this can cause serious performance degradation.\n",
      "25/09/02 15:09:16 WARN WindowExec: No Partition Defined for Window operation! Moving all data to a single partition, this can cause serious performance degradation.\n",
      "25/09/02 15:09:16 WARN WindowExec: No Partition Defined for Window operation! Moving all data to a single partition, this can cause serious performance degradation.\n",
      "25/09/02 15:09:16 WARN WindowExec: No Partition Defined for Window operation! Moving all data to a single partition, this can cause serious performance degradation.\n",
      "25/09/02 15:09:16 WARN WindowExec: No Partition Defined for Window operation! Moving all data to a single partition, this can cause serious performance degradation.\n",
      "25/09/02 15:09:16 WARN WindowExec: No Partition Defined for Window operation! Moving all data to a single partition, this can cause serious performance degradation.\n",
      "25/09/02 15:09:17 WARN WindowExec: No Partition Defined for Window operation! Moving all data to a single partition, this can cause serious performance degradation.\n",
      "25/09/02 15:09:17 WARN WindowExec: No Partition Defined for Window operation! Moving all data to a single partition, this can cause serious performance degradation.\n",
      "25/09/02 15:09:17 WARN WindowExec: No Partition Defined for Window operation! Moving all data to a single partition, this can cause serious performance degradation.\n",
      "25/09/02 15:09:17 WARN WindowExec: No Partition Defined for Window operation! Moving all data to a single partition, this can cause serious performance degradation.\n",
      "25/09/02 15:09:17 WARN WindowExec: No Partition Defined for Window operation! Moving all data to a single partition, this can cause serious performance degradation.\n",
      "25/09/02 15:09:17 WARN WindowExec: No Partition Defined for Window operation! Moving all data to a single partition, this can cause serious performance degradation.\n",
      "                                                                                \r"
     ]
    },
    {
     "name": "stdout",
     "output_type": "stream",
     "text": [
      "\n",
      "All files have been saved successfully!\n",
      "You can now find them in the 'Output' section of your Kaggle notebook.\n"
     ]
    }
   ],
   "source": [
    "output_path = \"/kaggle/working/\"\n",
    "\n",
    "print(f\"Starting to save final DataFrames to CSV files in: {output_path}\")\n",
    "final_rfm.repartition(1).write.csv(output_path + \"rfm_customer_segments\", header=True, mode=\"overwrite\")\n",
    "final_rfm.groupBy(\"segment_name\").count().orderBy(col(\"count\").desc()) \\\n",
    "    .repartition(1).write.csv(output_path + \"segment_counts\", header=True, mode=\"overwrite\")\n",
    "top_10_cities_by_revenue.repartition(1).write.csv(output_path + \"top_cities_revenue\", header=True, mode=\"overwrite\")\n",
    "revenue_by_month.repartition(1).write.csv(output_path + \"monthly_revenue\", header=True, mode=\"overwrite\")\n",
    "negative_margin_orders = financial_df.filter(col(\"margin_percentage\") < 0)\n",
    "negative_margin_orders.repartition(1).write.csv(output_path + \"negative_margin_orders\", header=True, mode=\"overwrite\")\n",
    "print(\"\\nAll files have been saved successfully!\")\n",
    "print(\"You can now find them in the 'Output' section of your Kaggle notebook.\")\n",
    "\n"
   ]
  },
  {
   "cell_type": "code",
   "execution_count": null,
   "metadata": {
    "trusted": true
   },
   "outputs": [],
   "source": []
  }
 ],
 "metadata": {
  "kaggle": {
   "accelerator": "none",
   "dataSources": [
    {
     "datasetId": 55151,
     "sourceId": 2669146,
     "sourceType": "datasetVersion"
    }
   ],
   "dockerImageVersionId": 31089,
   "isGpuEnabled": false,
   "isInternetEnabled": false,
   "language": "python",
   "sourceType": "notebook"
  },
  "kernelspec": {
   "display_name": "myenv",
   "language": "python",
   "name": "python3"
  },
  "language_info": {
   "codemirror_mode": {
    "name": "ipython",
    "version": 3
   },
   "file_extension": ".py",
   "mimetype": "text/x-python",
   "name": "python",
   "nbconvert_exporter": "python",
   "pygments_lexer": "ipython3",
   "version": "3.11.13"
  }
 },
 "nbformat": 4,
 "nbformat_minor": 4
}
